{
 "cells": [
  {
   "cell_type": "markdown",
   "id": "50094cc8-db58-49c2-bc0d-8e059de81fff",
   "metadata": {},
   "source": [
    "# ALPHABET SOUP PROBLEM"
   ]
  },
  {
   "cell_type": "code",
   "execution_count": 2,
   "id": "cb7c9638-dc1b-4f73-8560-38d2420b7b7b",
   "metadata": {},
   "outputs": [],
   "source": [
    "def letters(text):\n",
    "    return''.join(sorted(text))"
   ]
  },
  {
   "cell_type": "code",
   "execution_count": 3,
   "id": "79647432-1ef6-43c7-b521-3f969cffba45",
   "metadata": {},
   "outputs": [
    {
     "name": "stdout",
     "output_type": "stream",
     "text": [
      "ehllo\n"
     ]
    }
   ],
   "source": [
    "print(letters(\"hello\"))"
   ]
  },
  {
   "cell_type": "code",
   "execution_count": 4,
   "id": "dde5a3c3-80f3-4bdd-9a04-bcc0ae08f4cd",
   "metadata": {},
   "outputs": [
    {
     "name": "stdout",
     "output_type": "stream",
     "text": [
      "acehkr\n"
     ]
    }
   ],
   "source": [
    "print(letters(\"hacker\"))"
   ]
  },
  {
   "cell_type": "markdown",
   "id": "430bde99-9d6c-4647-b66a-23a82bfd8991",
   "metadata": {},
   "source": [
    "# EMOTICON PROBLEM"
   ]
  },
  {
   "cell_type": "code",
   "execution_count": 6,
   "id": "62402478-e0ad-449d-93b4-45452f951e38",
   "metadata": {},
   "outputs": [],
   "source": [
    "def emoticons(symbol):\n",
    "    symbol = symbol.replace(\"smile\",\":)\")\n",
    "    symbol = symbol.replace(\"grin\",\":D\")\n",
    "    symbol = symbol.replace(\"sad\",\":((\")\n",
    "    symbol = symbol.replace(\"mad\",\">:(\")\n",
    "    return symbol"
   ]
  },
  {
   "cell_type": "code",
   "execution_count": 7,
   "id": "a8e19385-fe0b-4dfa-8307-65cbefb3e526",
   "metadata": {},
   "outputs": [
    {
     "name": "stdout",
     "output_type": "stream",
     "text": [
      "make me :)\n"
     ]
    }
   ],
   "source": [
    "print(emoticons(\"make me smile\"))"
   ]
  },
  {
   "cell_type": "code",
   "execution_count": 8,
   "id": "39d650ca-a0c7-4f2d-b856-9c4c80bc8dff",
   "metadata": {},
   "outputs": [
    {
     "name": "stdout",
     "output_type": "stream",
     "text": [
      "I am >:(\n"
     ]
    }
   ],
   "source": [
    "print(emoticons(\"I am mad\"))"
   ]
  },
  {
   "cell_type": "markdown",
   "id": "affbc8a9-b8c6-4aea-892c-084bb7913d5b",
   "metadata": {},
   "source": [
    "# UNPACKING LIST PROBLEM"
   ]
  },
  {
   "cell_type": "code",
   "execution_count": 21,
   "id": "fa4bf1da-22df-4861-8485-917be72fba5e",
   "metadata": {},
   "outputs": [],
   "source": [
    "list=[1,2,3,4,5,6]\n",
    "first=list[0]\n",
    "middle=list[1:-1]\n",
    "last=list[-1]"
   ]
  },
  {
   "cell_type": "code",
   "execution_count": 23,
   "id": "f2ce4a65-e242-4694-a8a6-e5acbf303d24",
   "metadata": {},
   "outputs": [
    {
     "name": "stdout",
     "output_type": "stream",
     "text": [
      "first: 1\n"
     ]
    }
   ],
   "source": [
    "print(\"first:\", first)"
   ]
  },
  {
   "cell_type": "code",
   "execution_count": 25,
   "id": "c0fc51d7-e11c-4b1f-8583-fb6a62454537",
   "metadata": {},
   "outputs": [
    {
     "name": "stdout",
     "output_type": "stream",
     "text": [
      "middle: [2, 3, 4, 5]\n"
     ]
    }
   ],
   "source": [
    "print(\"middle:\",middle)\n"
   ]
  },
  {
   "cell_type": "code",
   "execution_count": 27,
   "id": "cccee514-3b6b-4ab3-bb34-da5c261bc3bf",
   "metadata": {},
   "outputs": [
    {
     "name": "stdout",
     "output_type": "stream",
     "text": [
      "last: 6\n"
     ]
    }
   ],
   "source": [
    "print(\"last:\",last)"
   ]
  },
  {
   "cell_type": "code",
   "execution_count": null,
   "id": "b7968d1c-ad01-45e7-96a8-2ae74440f7d8",
   "metadata": {},
   "outputs": [],
   "source": []
  }
 ],
 "metadata": {
  "kernelspec": {
   "display_name": "Python 3 (ipykernel)",
   "language": "python",
   "name": "python3"
  },
  "language_info": {
   "codemirror_mode": {
    "name": "ipython",
    "version": 3
   },
   "file_extension": ".py",
   "mimetype": "text/x-python",
   "name": "python",
   "nbconvert_exporter": "python",
   "pygments_lexer": "ipython3",
   "version": "3.12.4"
  }
 },
 "nbformat": 4,
 "nbformat_minor": 5
}
